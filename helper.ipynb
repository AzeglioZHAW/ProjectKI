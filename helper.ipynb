{
 "cells": [
  {
   "cell_type": "code",
   "execution_count": 1,
   "metadata": {},
   "outputs": [],
   "source": [
    "import matplotlib.image as mpimg\n",
    "import os\n",
    "\n",
    "import matplotlib.pyplot as plt\n",
    "import tensorflow as tf\n",
    "import pandas as pd\n",
    "import numpy as np\n",
    "from glob import glob\n",
    "import cv2\n",
    "#import zipfile\n",
    "from PIL import Image\n",
    "  \n",
    "from keras.callbacks import EarlyStopping\n",
    "#from keras.preprocessing import image_dataset_from_directory\n",
    "#from keras.preprocessing.image import ImageDataGenerator, load_img\n",
    "from keras.utils.np_utils import to_categorical\n",
    "from keras.utils import image_dataset_from_directory\n",
    "from keras.optimizers import Adam\n",
    "from keras.layers import Conv2D, MaxPooling2D\n",
    "from keras.layers import Activation, Dropout, Flatten, Dense\n",
    "from keras.models import Sequential\n",
    "from keras import layers\n",
    "from tensorflow import keras\n",
    "#from layers.experimental.preprocessing import Rescaling\n",
    "from sklearn.model_selection import train_test_split\n",
    "#from zipfile import ZipFile\n",
    "  \n",
    "import warnings\n",
    "warnings.filterwarnings('ignore')"
   ]
  },
  {
   "cell_type": "code",
   "execution_count": 7,
   "metadata": {},
   "outputs": [
    {
     "name": "stdout",
     "output_type": "stream",
     "text": [
      "Nr. Folders in Train Folder: 43\n",
      "Data in Data Folder: \n"
     ]
    },
    {
     "data": {
      "text/plain": [
       "['Meta',\n",
       " 'Meta.csv',\n",
       " 'streetsigns.zip',\n",
       " 'Test',\n",
       " 'Test.csv',\n",
       " 'Train',\n",
       " 'Train.csv']"
      ]
     },
     "execution_count": 7,
     "metadata": {},
     "output_type": "execute_result"
    }
   ],
   "source": [
    "#accesing path for dataset\n",
    "data_path='c:\\\\ZHAW\\\\23FS\\\\KI\\\\DataForProject'\n",
    "train_path='c:\\\\ZHAW\\\\23FS\\\\KI\\\\DataForProject\\\\Train'\n",
    "\n",
    "#Variables for resizing\n",
    "IMG_HEIGHT = 30\n",
    "IMG_WIDTH = 30\n",
    "channels = 3\n",
    "\n",
    "#Getting Total Nr of Classes from Train Folder\n",
    "NUM_CATEGORIES = len(os.listdir(train_path))\n",
    "print(\"Nr. Folders in Train Folder: \"+str(NUM_CATEGORIES))\n",
    "\n",
    "FOLDER = os.listdir(data_path)\n",
    "print(\"Data in Data Folder: \")\n",
    "FOLDER"
   ]
  }
 ],
 "metadata": {
  "kernelspec": {
   "display_name": "base",
   "language": "python",
   "name": "python3"
  },
  "language_info": {
   "codemirror_mode": {
    "name": "ipython",
    "version": 3
   },
   "file_extension": ".py",
   "mimetype": "text/x-python",
   "name": "python",
   "nbconvert_exporter": "python",
   "pygments_lexer": "ipython3",
   "version": "3.9.12"
  },
  "orig_nbformat": 4
 },
 "nbformat": 4,
 "nbformat_minor": 2
}

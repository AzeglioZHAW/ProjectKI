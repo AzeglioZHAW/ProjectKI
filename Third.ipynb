{
 "cells": [
  {
   "cell_type": "code",
   "execution_count": 1,
   "metadata": {},
   "outputs": [],
   "source": [
    "import matplotlib.image as mpimg\n",
    "import os\n",
    "\n",
    "import matplotlib.pyplot as plt\n",
    "import tensorflow as tf\n",
    "import pandas as pd\n",
    "import numpy as np\n",
    "from glob import glob\n",
    "import cv2\n",
    "#import zipfile\n",
    "from PIL import Image\n",
    "  \n",
    "from keras.callbacks import EarlyStopping\n",
    "#from keras.preprocessing import image_dataset_from_directory\n",
    "#from keras.preprocessing.image import ImageDataGenerator, load_img\n",
    "from keras.utils.np_utils import to_categorical\n",
    "from keras.utils import image_dataset_from_directory\n",
    "from keras.optimizers import Adam\n",
    "from keras.layers import Conv2D, MaxPooling2D, MaxPool2D\n",
    "from keras.layers import Activation, Dropout, Flatten, Dense\n",
    "from keras.models import Sequential\n",
    "from keras import layers\n",
    "from tensorflow import keras\n",
    "#from layers.experimental.preprocessing import Rescaling\n",
    "from sklearn.model_selection import train_test_split\n",
    "#from zipfile import ZipFile\n",
    "  \n",
    "import warnings\n",
    "warnings.filterwarnings('ignore')"
   ]
  },
  {
   "cell_type": "code",
   "execution_count": 3,
   "metadata": {},
   "outputs": [
    {
     "data": {
      "text/plain": [
       "43"
      ]
     },
     "execution_count": 3,
     "metadata": {},
     "output_type": "execute_result"
    }
   ],
   "source": [
    "#accesing path for dataset\n",
    "data_path='c:\\\\ZHAW\\\\23FS\\\\KI\\\\DataForProject'\n",
    "train_path='c:\\\\ZHAW\\\\23FS\\\\KI\\\\DataForProject\\\\Train'\n",
    "\n",
    "#Variables for resizing\n",
    "IMG_HEIGHT = 30\n",
    "IMG_WIDTH = 30\n",
    "channels = 3\n",
    "\n",
    "#Getting Total Nr of Classes from Train Folder\n",
    "NUM_CATEGORIES = len(os.listdir(train_path))\n",
    "NUM_CATEGORIES"
   ]
  },
  {
   "cell_type": "code",
   "execution_count": 4,
   "metadata": {},
   "outputs": [],
   "source": [
    "# Label Overview\n",
    "classes = { 0:'Speed limit (20km/h)',\n",
    "            1:'Speed limit (30km/h)', \n",
    "            2:'Speed limit (50km/h)', \n",
    "            3:'Speed limit (60km/h)', \n",
    "            4:'Speed limit (70km/h)', \n",
    "            5:'Speed limit (80km/h)', \n",
    "            6:'End of speed limit (80km/h)', \n",
    "            7:'Speed limit (100km/h)', \n",
    "            8:'Speed limit (120km/h)', \n",
    "            9:'No passing', \n",
    "            10:'No passing veh over 3.5 tons', \n",
    "            11:'Right-of-way at intersection', \n",
    "            12:'Priority road', \n",
    "            13:'Yield', \n",
    "            14:'Stop', \n",
    "            15:'No vehicles', \n",
    "            16:'Veh > 3.5 tons prohibited', \n",
    "            17:'No entry', \n",
    "            18:'General caution', \n",
    "            19:'Dangerous curve left', \n",
    "            20:'Dangerous curve right', \n",
    "            21:'Double curve', \n",
    "            22:'Bumpy road', \n",
    "            23:'Slippery road', \n",
    "            24:'Road narrows on the right', \n",
    "            25:'Road work', \n",
    "            26:'Traffic signals', \n",
    "            27:'Pedestrians', \n",
    "            28:'Children crossing', \n",
    "            29:'Bicycles crossing', \n",
    "            30:'Beware of ice/snow',\n",
    "            31:'Wild animals crossing', \n",
    "            32:'End speed + passing limits', \n",
    "            33:'Turn right ahead', \n",
    "            34:'Turn left ahead', \n",
    "            35:'Ahead only', \n",
    "            36:'Go straight or right', \n",
    "            37:'Go straight or left', \n",
    "            38:'Keep right', \n",
    "            39:'Keep left', \n",
    "            40:'Roundabout mandatory', \n",
    "            41:'End of no passing', \n",
    "            42:'End no passing veh > 3.5 tons' }"
   ]
  },
  {
   "cell_type": "code",
   "execution_count": 5,
   "metadata": {},
   "outputs": [
    {
     "name": "stdout",
     "output_type": "stream",
     "text": [
      "(39209, 30, 30, 3) (39209,)\n"
     ]
    }
   ],
   "source": [
    "image_data = []\n",
    "image_labels = []\n",
    "\n",
    "for i in range(NUM_CATEGORIES):\n",
    "    path = train_path + \"\\\\\" + str(i)\n",
    "    images = os.listdir(path)\n",
    "\n",
    "    for img in images:\n",
    "        try:\n",
    "            image = cv2.imread(path + '\\\\' + img)\n",
    "            image_fromarray = Image.fromarray(image, 'RGB')\n",
    "            resize_image = image_fromarray.resize((IMG_HEIGHT, IMG_WIDTH))\n",
    "            image_data.append(np.array(resize_image))\n",
    "            image_labels.append(i)\n",
    "        except:\n",
    "            print(\"Error in \" + img)\n",
    "\n",
    "# Changing the list to numpy array\n",
    "image_data = np.array(image_data)\n",
    "image_labels = np.array(image_labels)\n",
    "\n",
    "print(image_data.shape, image_labels.shape)"
   ]
  },
  {
   "cell_type": "code",
   "execution_count": 16,
   "metadata": {},
   "outputs": [
    {
     "name": "stdout",
     "output_type": "stream",
     "text": [
      "X_train.shape (27446, 30, 30, 3)\n",
      "X_valid.shape (11763, 30, 30, 3)\n",
      "y_train.shape (27446,)\n",
      "y_valid.shape (11763,)\n",
      "X_test.shape (39209, 30, 30, 3)\n",
      "y_test.shape (39209,)\n",
      "X_train Type:  float64\n",
      "X_valid Type float64\n",
      "y_train Type int32\n",
      "y_valid Type int32\n",
      "X_test Type uint8\n",
      "y_test Type int32\n"
     ]
    }
   ],
   "source": [
    "X_train, X_val, y_train, y_val = train_test_split(image_data, image_labels, test_size=0.3, random_state=42, shuffle=True)\n",
    "\n",
    "(X_test, y_test) = (image_data, image_labels)\n",
    "X_train = X_train/255 \n",
    "X_val = X_val/255\n",
    "\n",
    "print(\"X_train.shape\", X_train.shape)\n",
    "print(\"X_valid.shape\", X_val.shape)\n",
    "print(\"y_train.shape\", y_train.shape)\n",
    "print(\"y_valid.shape\", y_val.shape)\n",
    "print(\"X_test.shape\", X_test.shape)\n",
    "print(\"y_test.shape\", y_test.shape)\n",
    "\n",
    "print(\"X_train Type:\", X_train.dtype)\n",
    "print(\"X_valid Type\", X_val.dtype)\n",
    "print(\"y_train Type\", y_train.dtype)\n",
    "print(\"y_valid Type\", y_val.dtype)\n",
    "print(\"X_test Type\", X_test.dtype)\n",
    "print(\"y_test Type\", y_test.dtype)"
   ]
  },
  {
   "cell_type": "code",
   "execution_count": 19,
   "metadata": {},
   "outputs": [
    {
     "name": "stdout",
     "output_type": "stream",
     "text": [
      "X_train Type: float32\n",
      "X_valid Type float32\n"
     ]
    }
   ],
   "source": [
    "X_train = X_train.astype(np.float32)\n",
    "X_val = X_val.astype(np.float32)\n",
    "print(\"X_train Type:\", X_train.dtype)\n",
    "print(\"X_valid Type\", X_val.dtype)"
   ]
  },
  {
   "cell_type": "code",
   "execution_count": 8,
   "metadata": {},
   "outputs": [
    {
     "data": {
      "text/plain": [
       "array([0, 0, 0, 0, 0, 0, 0, 0, 0, 0, 0, 0, 0, 0, 0, 0, 0, 0, 0, 0, 0, 0,\n",
       "       0, 0, 0, 0, 0, 0, 0, 0, 0, 0, 0, 0, 0, 0, 0, 0, 0, 0, 0, 0, 0, 0,\n",
       "       0, 0, 0, 0, 0, 0, 0, 0, 0, 0, 0, 0, 0, 0, 0, 0, 0, 0, 0, 0, 0, 0,\n",
       "       0, 0, 0, 0, 0, 0, 0, 0, 0, 0, 0, 0, 0, 0, 0, 0, 0, 0, 0, 0, 0, 0,\n",
       "       0, 0, 0, 0, 0, 0, 0, 0, 0, 0, 0, 0])"
      ]
     },
     "execution_count": 8,
     "metadata": {},
     "output_type": "execute_result"
    }
   ],
   "source": [
    "image_labels[:100]"
   ]
  },
  {
   "cell_type": "code",
   "execution_count": 9,
   "metadata": {},
   "outputs": [
    {
     "name": "stdout",
     "output_type": "stream",
     "text": [
      "(27446, 43)\n",
      "(11763, 43)\n"
     ]
    }
   ],
   "source": [
    "y_train = keras.utils.to_categorical(y_train, NUM_CATEGORIES)\n",
    "y_val = keras.utils.to_categorical(y_val, NUM_CATEGORIES)\n",
    "\n",
    "print(y_train.shape)\n",
    "print(y_val.shape)"
   ]
  },
  {
   "cell_type": "code",
   "execution_count": null,
   "metadata": {},
   "outputs": [],
   "source": []
  },
  {
   "cell_type": "code",
   "execution_count": 16,
   "metadata": {},
   "outputs": [],
   "source": [
    "X = (30, 30, 3)\n",
    "\n",
    "#Building the model\n",
    "model = Sequential()\n",
    "model.add(Conv2D(filters=32, kernel_size=(5,5), activation='relu', input_shape=X))\n",
    "model.add(Conv2D(filters=32, kernel_size=(5,5), activation='relu'))\n",
    "model.add(MaxPool2D(pool_size=(2, 2)))\n",
    "model.add(Dropout(rate=0.25))\n",
    "model.add(Conv2D(filters=64, kernel_size=(3, 3), activation='relu'))\n",
    "model.add(Conv2D(filters=64, kernel_size=(3, 3), activation='relu'))\n",
    "model.add(MaxPool2D(pool_size=(2, 2)))\n",
    "model.add(Dropout(rate=0.25))\n",
    "model.add(Flatten())\n",
    "model.add(Dense(256, activation='relu'))\n",
    "model.add(Dropout(rate=0.5))\n",
    "model.add(Dense(43, activation='softmax'))"
   ]
  },
  {
   "cell_type": "code",
   "execution_count": 17,
   "metadata": {},
   "outputs": [],
   "source": [
    "model.compile(optimizer='adam',\n",
    "              loss='categorical_crossentropy',\n",
    "              metrics=['accuracy'])"
   ]
  },
  {
   "cell_type": "code",
   "execution_count": 18,
   "metadata": {},
   "outputs": [
    {
     "name": "stdout",
     "output_type": "stream",
     "text": [
      "Epoch 1/15\n",
      "687/687 [==============================] - 42s 58ms/step - loss: 1.6350 - accuracy: 0.5442 - val_loss: 0.2142 - val_accuracy: 0.9428\n",
      "Epoch 2/15\n",
      "687/687 [==============================] - 44s 63ms/step - loss: 0.3120 - accuracy: 0.9039 - val_loss: 0.0869 - val_accuracy: 0.9760\n",
      "Epoch 3/15\n",
      "687/687 [==============================] - 42s 61ms/step - loss: 0.1791 - accuracy: 0.9467 - val_loss: 0.0501 - val_accuracy: 0.9867\n",
      "Epoch 4/15\n",
      "687/687 [==============================] - 40s 59ms/step - loss: 0.1343 - accuracy: 0.9586 - val_loss: 0.0573 - val_accuracy: 0.9845\n",
      "Epoch 5/15\n",
      "687/687 [==============================] - 40s 58ms/step - loss: 0.1145 - accuracy: 0.9668 - val_loss: 0.0349 - val_accuracy: 0.9916\n",
      "Epoch 6/15\n",
      "687/687 [==============================] - 41s 60ms/step - loss: 0.0875 - accuracy: 0.9739 - val_loss: 0.0322 - val_accuracy: 0.9913\n",
      "Epoch 7/15\n",
      "687/687 [==============================] - 41s 60ms/step - loss: 0.0874 - accuracy: 0.9742 - val_loss: 0.0283 - val_accuracy: 0.9940\n",
      "Epoch 8/15\n",
      "687/687 [==============================] - 40s 58ms/step - loss: 0.0767 - accuracy: 0.9766 - val_loss: 0.0533 - val_accuracy: 0.9872\n",
      "Epoch 9/15\n",
      "687/687 [==============================] - 41s 60ms/step - loss: 0.0674 - accuracy: 0.9793 - val_loss: 0.0261 - val_accuracy: 0.9927\n",
      "Epoch 10/15\n",
      "687/687 [==============================] - 43s 63ms/step - loss: 0.0620 - accuracy: 0.9809 - val_loss: 0.0235 - val_accuracy: 0.9944\n",
      "Epoch 11/15\n",
      "687/687 [==============================] - 42s 61ms/step - loss: 0.0622 - accuracy: 0.9811 - val_loss: 0.0192 - val_accuracy: 0.9956\n",
      "Epoch 12/15\n",
      "687/687 [==============================] - 41s 59ms/step - loss: 0.0576 - accuracy: 0.9826 - val_loss: 0.0202 - val_accuracy: 0.9951\n",
      "Epoch 13/15\n",
      "687/687 [==============================] - 40s 58ms/step - loss: 0.0655 - accuracy: 0.9806 - val_loss: 0.0254 - val_accuracy: 0.9933\n",
      "Epoch 14/15\n",
      "687/687 [==============================] - 41s 59ms/step - loss: 0.0573 - accuracy: 0.9826 - val_loss: 0.0203 - val_accuracy: 0.9951\n",
      "Epoch 15/15\n",
      "687/687 [==============================] - 40s 59ms/step - loss: 0.0543 - accuracy: 0.9831 - val_loss: 0.0306 - val_accuracy: 0.9911\n"
     ]
    }
   ],
   "source": [
    "history = model.fit(X_train, y_train, epochs=15, validation_split=0.2)"
   ]
  },
  {
   "cell_type": "code",
   "execution_count": 19,
   "metadata": {},
   "outputs": [
    {
     "data": {
      "text/plain": [
       "<function matplotlib.pyplot.show(close=None, block=None)>"
      ]
     },
     "execution_count": 19,
     "metadata": {},
     "output_type": "execute_result"
    },
    {
     "data": {
      "image/png": "[encoded data removed]",
      "text/plain": [
       "<Figure size 432x288 with 1 Axes>"
      ]
     },
     "metadata": {
      "needs_background": "light"
     },
     "output_type": "display_data"
    }
   ],
   "source": [
    "#accuracy\n",
    "plt.figure(0)\n",
    "plt.plot(history.history['accuracy'],label='tranning accuracy')\n",
    "plt.plot(history.history['val_accuracy'],label='validation accuracy')\n",
    "plt.title('Accuracy')\n",
    "plt.xlabel('epochs')\n",
    "plt.ylabel('accuracy')\n",
    "plt.legend()\n",
    "plt.show"
   ]
  },
  {
   "cell_type": "code",
   "execution_count": 20,
   "metadata": {},
   "outputs": [
    {
     "data": {
      "text/plain": [
       "<function matplotlib.pyplot.show(close=None, block=None)>"
      ]
     },
     "execution_count": 20,
     "metadata": {},
     "output_type": "execute_result"
    },
    {
     "data": {
      "image/png": "[encoded data removed]",
      "text/plain": [
       "<Figure size 432x288 with 1 Axes>"
      ]
     },
     "metadata": {
      "needs_background": "light"
     },
     "output_type": "display_data"
    }
   ],
   "source": [
    "#Loss\n",
    "plt.plot(history.history['loss'],label='tranning loss')\n",
    "plt.plot(history.history['val_loss'],label='validation loss')\n",
    "plt.title('Loss')\n",
    "plt.xlabel('epochs')\n",
    "plt.ylabel('loss')\n",
    "plt.legend()\n",
    "plt.show"
   ]
  },
  {
   "cell_type": "code",
   "execution_count": 20,
   "metadata": {},
   "outputs": [
    {
     "name": "stdout",
     "output_type": "stream",
     "text": [
      "X_train.shape (27446, 30, 30, 3)\n",
      "X_valid.shape (11763, 30, 30, 3)\n",
      "y_train.shape (27446,)\n",
      "y_valid.shape (11763,)\n",
      "X_train Type: float32\n",
      "X_valid Type float32\n",
      "y_train Type int32\n",
      "y_valid Type int32\n"
     ]
    }
   ],
   "source": [
    "X_train2, X_val2, y_train2, y_val2 = train_test_split(image_data, image_labels, test_size=0.3, random_state=42, shuffle=True)\n",
    "\n",
    "X_train2 = X_train2.astype(np.float32)\n",
    "X_val2 = X_val2.astype(np.float32)\n",
    "\n",
    "\n",
    "print(\"X_train.shape\", X_train2.shape)\n",
    "print(\"X_valid.shape\", X_val2.shape)\n",
    "print(\"y_train.shape\", y_train2.shape)\n",
    "print(\"y_valid.shape\", y_val2.shape)\n",
    "\n",
    "\n",
    "print(\"X_train Type:\", X_train2.dtype)\n",
    "print(\"X_valid Type\", X_val2.dtype)\n",
    "print(\"y_train Type\", y_train2.dtype)\n",
    "print(\"y_valid Type\", y_val2.dtype)\n"
   ]
  },
  {
   "cell_type": "code",
   "execution_count": 21,
   "metadata": {},
   "outputs": [
    {
     "name": "stdout",
     "output_type": "stream",
     "text": [
      "(27446, 43)\n",
      "(11763, 43)\n"
     ]
    }
   ],
   "source": [
    "y_train2 = keras.utils.to_categorical(y_train2, NUM_CATEGORIES)\n",
    "y_val2 = keras.utils.to_categorical(y_val2, NUM_CATEGORIES)\n",
    "\n",
    "print(y_train2.shape)\n",
    "print(y_val2.shape)"
   ]
  },
  {
   "cell_type": "code",
   "execution_count": 23,
   "metadata": {},
   "outputs": [],
   "source": [
    "X = (30, 30, 3)\n",
    "\n",
    "#Building the model\n",
    "model2 = Sequential()\n",
    "model2.add(Conv2D(filters=32, kernel_size=(5,5), activation='relu', input_shape=X))\n",
    "model2.add(Conv2D(filters=32, kernel_size=(5,5), activation='relu'))\n",
    "model2.add(MaxPool2D(pool_size=(2, 2)))\n",
    "model2.add(Dropout(rate=0.25))\n",
    "model2.add(Conv2D(filters=64, kernel_size=(3, 3), activation='relu'))\n",
    "model2.add(Conv2D(filters=64, kernel_size=(3, 3), activation='relu'))\n",
    "model2.add(MaxPool2D(pool_size=(2, 2)))\n",
    "model2.add(Dropout(rate=0.25))\n",
    "model2.add(Flatten())\n",
    "model2.add(Dense(256, activation='relu'))\n",
    "model2.add(Dropout(rate=0.5))\n",
    "model2.add(Dense(43, activation='softmax'))"
   ]
  },
  {
   "cell_type": "code",
   "execution_count": 24,
   "metadata": {},
   "outputs": [],
   "source": [
    "model2.compile(optimizer='adam',\n",
    "              loss='categorical_crossentropy',\n",
    "              metrics=['accuracy'])"
   ]
  },
  {
   "cell_type": "code",
   "execution_count": 25,
   "metadata": {},
   "outputs": [
    {
     "name": "stdout",
     "output_type": "stream",
     "text": [
      "Epoch 1/15\n",
      "687/687 [==============================] - 39s 54ms/step - loss: 2.2162 - accuracy: 0.4514 - val_loss: 0.7631 - val_accuracy: 0.8124\n",
      "Epoch 2/15\n",
      "687/687 [==============================] - 37s 54ms/step - loss: 0.8988 - accuracy: 0.7435 - val_loss: 0.4010 - val_accuracy: 0.8936\n",
      "Epoch 3/15\n",
      "687/687 [==============================] - 40s 59ms/step - loss: 0.5679 - accuracy: 0.8356 - val_loss: 0.2456 - val_accuracy: 0.9366\n",
      "Epoch 4/15\n",
      "687/687 [==============================] - 39s 57ms/step - loss: 0.3981 - accuracy: 0.8863 - val_loss: 0.2839 - val_accuracy: 0.9138\n",
      "Epoch 5/15\n",
      "687/687 [==============================] - 41s 60ms/step - loss: 0.3615 - accuracy: 0.8952 - val_loss: 0.1385 - val_accuracy: 0.9608\n",
      "Epoch 6/15\n",
      "687/687 [==============================] - 38s 56ms/step - loss: 0.2847 - accuracy: 0.9171 - val_loss: 0.0835 - val_accuracy: 0.9760\n",
      "Epoch 7/15\n",
      "687/687 [==============================] - 41s 59ms/step - loss: 0.2556 - accuracy: 0.9257 - val_loss: 0.1036 - val_accuracy: 0.9670\n",
      "Epoch 8/15\n",
      "687/687 [==============================] - 40s 58ms/step - loss: 0.2501 - accuracy: 0.9313 - val_loss: 0.0577 - val_accuracy: 0.9854\n",
      "Epoch 9/15\n",
      "687/687 [==============================] - 40s 58ms/step - loss: 0.2474 - accuracy: 0.9311 - val_loss: 0.0832 - val_accuracy: 0.9767\n",
      "Epoch 10/15\n",
      "687/687 [==============================] - 41s 59ms/step - loss: 0.2256 - accuracy: 0.9379 - val_loss: 0.0843 - val_accuracy: 0.9750\n",
      "Epoch 11/15\n",
      "687/687 [==============================] - 40s 58ms/step - loss: 0.1933 - accuracy: 0.9451 - val_loss: 0.0471 - val_accuracy: 0.9867\n",
      "Epoch 12/15\n",
      "687/687 [==============================] - 40s 59ms/step - loss: 0.2138 - accuracy: 0.9419 - val_loss: 0.0482 - val_accuracy: 0.9860\n",
      "Epoch 13/15\n",
      "687/687 [==============================] - 40s 58ms/step - loss: 0.1919 - accuracy: 0.9476 - val_loss: 0.0658 - val_accuracy: 0.9809\n",
      "Epoch 14/15\n",
      "687/687 [==============================] - 42s 61ms/step - loss: 0.2179 - accuracy: 0.9432 - val_loss: 0.0475 - val_accuracy: 0.9867\n",
      "Epoch 15/15\n",
      "687/687 [==============================] - 42s 61ms/step - loss: 0.1983 - accuracy: 0.9481 - val_loss: 0.0511 - val_accuracy: 0.9869\n"
     ]
    }
   ],
   "source": [
    "history2 = model2.fit(X_train2, y_train2, epochs=15, validation_split=0.2)"
   ]
  },
  {
   "cell_type": "code",
   "execution_count": 26,
   "metadata": {},
   "outputs": [
    {
     "data": {
      "text/plain": [
       "<function matplotlib.pyplot.show(close=None, block=None)>"
      ]
     },
     "execution_count": 26,
     "metadata": {},
     "output_type": "execute_result"
    },
    {
     "data": {
      "image/png": "[encoded data removed]",
      "text/plain": [
       "<Figure size 432x288 with 1 Axes>"
      ]
     },
     "metadata": {
      "needs_background": "light"
     },
     "output_type": "display_data"
    }
   ],
   "source": [
    "#accuracy\n",
    "plt.figure(0)\n",
    "plt.plot(history2.history['accuracy'],label='tranning accuracy')\n",
    "plt.plot(history2.history['val_accuracy'],label='validation accuracy')\n",
    "plt.title('Accuracy')\n",
    "plt.xlabel('epochs')\n",
    "plt.ylabel('accuracy')\n",
    "plt.legend()\n",
    "plt.show"
   ]
  },
  {
   "cell_type": "code",
   "execution_count": 27,
   "metadata": {},
   "outputs": [
    {
     "data": {
      "text/plain": [
       "<function matplotlib.pyplot.show(close=None, block=None)>"
      ]
     },
     "execution_count": 27,
     "metadata": {},
     "output_type": "execute_result"
    },
    {
     "data": {
      "image/png": "[encoded data removed]",
      "text/plain": [
       "<Figure size 432x288 with 1 Axes>"
      ]
     },
     "metadata": {
      "needs_background": "light"
     },
     "output_type": "display_data"
    }
   ],
   "source": [
    "#Loss\n",
    "plt.plot(history2.history['loss'],label='tranning loss')\n",
    "plt.plot(history2.history['val_loss'],label='validation loss')\n",
    "plt.title('Loss')\n",
    "plt.xlabel('epochs')\n",
    "plt.ylabel('loss')\n",
    "plt.legend()\n",
    "plt.show"
   ]
  }
 ],
 "metadata": {
  "kernelspec": {
   "display_name": "base",
   "language": "python",
   "name": "python3"
  },
  "language_info": {
   "codemirror_mode": {
    "name": "ipython",
    "version": 3
   },
   "file_extension": ".py",
   "mimetype": "text/x-python",
   "name": "python",
   "nbconvert_exporter": "python",
   "pygments_lexer": "ipython3",
   "version": "3.9.12"
  },
  "orig_nbformat": 4
 },
 "nbformat": 4,
 "nbformat_minor": 2
}

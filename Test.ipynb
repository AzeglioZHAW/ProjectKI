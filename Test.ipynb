{
 "cells": [
  {
   "cell_type": "code",
   "execution_count": 1,
   "metadata": {},
   "outputs": [],
   "source": [
    "import matplotlib.image as mpimg\n",
    "import os\n",
    "\n",
    "import matplotlib.pyplot as plt\n",
    "import tensorflow as tf\n",
    "import pandas as pd\n",
    "import numpy as np\n",
    "from glob import glob\n",
    "import cv2\n",
    "#import zipfile\n",
    "from PIL import Image\n",
    "  \n",
    "from keras.callbacks import EarlyStopping\n",
    "#from keras.preprocessing import image_dataset_from_directory\n",
    "#from keras.preprocessing.image import ImageDataGenerator, load_img\n",
    "from keras.utils.np_utils import to_categorical\n",
    "from keras.utils import image_dataset_from_directory\n",
    "from keras.optimizers import Adam\n",
    "from keras.layers import Conv2D, MaxPooling2D, MaxPool2D\n",
    "from keras.layers import Activation, Dropout, Flatten, Dense\n",
    "from keras.models import Sequential\n",
    "from keras import layers\n",
    "from tensorflow import keras\n",
    "#from layers.experimental.preprocessing import Rescaling\n",
    "from sklearn.model_selection import train_test_split\n",
    "#from zipfile import ZipFile\n",
    "  \n",
    "import warnings\n",
    "warnings.filterwarnings('ignore')"
   ]
  },
  {
   "cell_type": "code",
   "execution_count": 2,
   "metadata": {},
   "outputs": [
    {
     "data": {
      "text/plain": [
       "43"
      ]
     },
     "execution_count": 2,
     "metadata": {},
     "output_type": "execute_result"
    }
   ],
   "source": [
    "#accesing path for dataset\n",
    "data_path='c:\\\\ZHAW\\\\23FS\\\\KI\\\\DataForProject'\n",
    "train_path='c:\\\\ZHAW\\\\23FS\\\\KI\\\\DataForProject\\\\Train'\n",
    "\n",
    "#Variables for resizing\n",
    "IMG_HEIGHT = 30\n",
    "IMG_WIDTH = 30\n",
    "channels = 3\n",
    "\n",
    "#Getting Total Nr of Classes from Train Folder\n",
    "NUM_CATEGORIES = len(os.listdir(train_path))\n",
    "NUM_CATEGORIES"
   ]
  },
  {
   "cell_type": "code",
   "execution_count": 3,
   "metadata": {},
   "outputs": [],
   "source": [
    "# Label Overview\n",
    "classes = { 0:'Speed limit (20km/h)',\n",
    "            1:'Speed limit (30km/h)', \n",
    "            2:'Speed limit (50km/h)', \n",
    "            3:'Speed limit (60km/h)', \n",
    "            4:'Speed limit (70km/h)', \n",
    "            5:'Speed limit (80km/h)', \n",
    "            6:'End of speed limit (80km/h)', \n",
    "            7:'Speed limit (100km/h)', \n",
    "            8:'Speed limit (120km/h)', \n",
    "            9:'No passing', \n",
    "            10:'No passing veh over 3.5 tons', \n",
    "            11:'Right-of-way at intersection', \n",
    "            12:'Priority road', \n",
    "            13:'Yield', \n",
    "            14:'Stop', \n",
    "            15:'No vehicles', \n",
    "            16:'Veh > 3.5 tons prohibited', \n",
    "            17:'No entry', \n",
    "            18:'General caution', \n",
    "            19:'Dangerous curve left', \n",
    "            20:'Dangerous curve right', \n",
    "            21:'Double curve', \n",
    "            22:'Bumpy road', \n",
    "            23:'Slippery road', \n",
    "            24:'Road narrows on the right', \n",
    "            25:'Road work', \n",
    "            26:'Traffic signals', \n",
    "            27:'Pedestrians', \n",
    "            28:'Children crossing', \n",
    "            29:'Bicycles crossing', \n",
    "            30:'Beware of ice/snow',\n",
    "            31:'Wild animals crossing', \n",
    "            32:'End speed + passing limits', \n",
    "            33:'Turn right ahead', \n",
    "            34:'Turn left ahead', \n",
    "            35:'Ahead only', \n",
    "            36:'Go straight or right', \n",
    "            37:'Go straight or left', \n",
    "            38:'Keep right', \n",
    "            39:'Keep left', \n",
    "            40:'Roundabout mandatory', \n",
    "            41:'End of no passing', \n",
    "            42:'End no passing veh > 3.5 tons' }"
   ]
  },
  {
   "cell_type": "code",
   "execution_count": 4,
   "metadata": {},
   "outputs": [
    {
     "name": "stdout",
     "output_type": "stream",
     "text": [
      "(39209, 30, 30, 3) (39209,)\n"
     ]
    }
   ],
   "source": [
    "image_data = []\n",
    "image_labels = []\n",
    "\n",
    "for i in range(NUM_CATEGORIES):\n",
    "    path = train_path + \"\\\\\" + str(i)\n",
    "    images = os.listdir(path)\n",
    "\n",
    "    for img in images:\n",
    "        try:\n",
    "            image = cv2.imread(path + '\\\\' + img)\n",
    "            image_fromarray = Image.fromarray(image, 'RGB')\n",
    "            resize_image = image_fromarray.resize((IMG_HEIGHT, IMG_WIDTH))\n",
    "            image_data.append(np.array(resize_image))\n",
    "            image_labels.append(i)\n",
    "        except:\n",
    "            print(\"Error in \" + img)\n",
    "\n",
    "# Changing the list to numpy array\n",
    "image_data = np.array(image_data)\n",
    "image_labels = np.array(image_labels)\n",
    "\n",
    "print(image_data.shape, image_labels.shape)"
   ]
  },
  {
   "cell_type": "code",
   "execution_count": 5,
   "metadata": {},
   "outputs": [],
   "source": [
    "X_train, X_valid, y_train, y_valid = train_test_split(image_data, image_labels, test_size=0.3, random_state=42, shuffle=True)\n",
    "\n",
    "X_test = X_train\n",
    "y_test = y_train\n",
    "\n",
    "X_train = X_train.astype(np.float32) \n",
    "X_valid = X_valid.astype(np.float32) \n",
    "X_test = X_test.astype(np.float32) "
   ]
  },
  {
   "cell_type": "code",
   "execution_count": 6,
   "metadata": {},
   "outputs": [
    {
     "name": "stdout",
     "output_type": "stream",
     "text": [
      "X_train.shape (27446, 30, 30, 3)\n",
      "X_valid.shape (11763, 30, 30, 3)\n",
      "y_train.shape (27446,)\n",
      "y_valid.shape (11763,)\n",
      "X_test.shape (27446, 30, 30, 3)\n",
      "y_test.shape (27446,)\n",
      "X_train Type: float32\n",
      "X_valid Type float32\n"
     ]
    }
   ],
   "source": [
    "print(\"X_train.shape\", X_train.shape)\n",
    "print(\"X_valid.shape\", X_valid.shape)\n",
    "print(\"y_train.shape\", y_train.shape)\n",
    "print(\"y_valid.shape\", y_valid.shape)\n",
    "print(\"X_test.shape\", X_test.shape)\n",
    "print(\"y_test.shape\", y_test.shape)\n",
    "\n",
    "print(\"X_train Type:\", X_train.dtype)\n",
    "print(\"X_valid Type\", X_valid.dtype)"
   ]
  },
  {
   "cell_type": "code",
   "execution_count": 7,
   "metadata": {},
   "outputs": [
    {
     "name": "stdout",
     "output_type": "stream",
     "text": [
      "(27446, 43)\n",
      "(11763, 43)\n"
     ]
    }
   ],
   "source": [
    "y_train = keras.utils.to_categorical(y_train, NUM_CATEGORIES)\n",
    "y_valid = keras.utils.to_categorical(y_valid, NUM_CATEGORIES)\n",
    "\n",
    "print(y_train.shape)\n",
    "print(y_valid.shape)"
   ]
  },
  {
   "cell_type": "code",
   "execution_count": 8,
   "metadata": {},
   "outputs": [],
   "source": [
    "#Creating data augementation layers\n",
    "data_augmentation = tf.keras.Sequential([\n",
    "  layers.RandomContrast(0.5),\n",
    "  layers.RandomBrightness(0.5),\n",
    "  layers.RandomZoom(.5, .2)\n",
    "])"
   ]
  },
  {
   "cell_type": "code",
   "execution_count": 9,
   "metadata": {},
   "outputs": [],
   "source": [
    "input_shape = (30, 30, 3)\n",
    "\n",
    "model = Sequential()\n",
    "\n",
    "# Data augmentation layer\n",
    "data_augmentation = keras.layers.experimental.preprocessing.RandomRotation(0.1)\n",
    "model.add(data_augmentation)\n",
    "\n",
    "# Convolutional layers\n",
    "model.add(Conv2D(filters=32, kernel_size=(3, 3), activation='relu', input_shape=input_shape))\n",
    "model.add(Conv2D(filters=32, kernel_size=(3, 3), activation='relu'))\n",
    "model.add(MaxPool2D(pool_size=(2, 2)))\n",
    "model.add(Dropout(rate=0.25))\n",
    "\n",
    "model.add(Conv2D(filters=64, kernel_size=(3, 3), activation='relu'))\n",
    "model.add(Conv2D(filters=64, kernel_size=(3, 3), activation='relu'))\n",
    "model.add(MaxPool2D(pool_size=(2, 2)))\n",
    "model.add(Dropout(rate=0.25))\n",
    "\n",
    "model.add(Flatten())\n",
    "\n",
    "# Dense layers\n",
    "model.add(Dense(128, activation='relu'))\n",
    "model.add(Dropout(rate=0.5))\n",
    "model.add(Dense(43, activation='softmax'))"
   ]
  },
  {
   "cell_type": "code",
   "execution_count": 11,
   "metadata": {},
   "outputs": [],
   "source": [
    "from keras import backend as K\n",
    "\n",
    "def recall_m(y_true, y_pred):\n",
    "    true_positives = K.sum(K.round(K.clip(y_true * y_pred, 0, 1)))\n",
    "    possible_positives = K.sum(K.round(K.clip(y_true, 0, 1)))\n",
    "    recall = true_positives / (possible_positives + K.epsilon())\n",
    "    return recall\n",
    "\n",
    "def precision_m(y_true, y_pred):\n",
    "    true_positives = K.sum(K.round(K.clip(y_true * y_pred, 0, 1)))\n",
    "    predicted_positives = K.sum(K.round(K.clip(y_pred, 0, 1)))\n",
    "    precision = true_positives / (predicted_positives + K.epsilon())\n",
    "    return precision\n",
    "\n",
    "def f1_m(y_true, y_pred):\n",
    "    precision = precision_m(y_true, y_pred)\n",
    "    recall = recall_m(y_true, y_pred)\n",
    "    return 2*((precision*recall)/(precision+recall+K.epsilon()))"
   ]
  },
  {
   "cell_type": "code",
   "execution_count": 12,
   "metadata": {},
   "outputs": [],
   "source": [
    "model.compile(optimizer='adam',\n",
    "              loss='categorical_crossentropy',\n",
    "              metrics=['accuracy',f1_m,precision_m, recall_m])"
   ]
  },
  {
   "cell_type": "code",
   "execution_count": 13,
   "metadata": {},
   "outputs": [
    {
     "name": "stdout",
     "output_type": "stream",
     "text": [
      "Epoch 1/15\n",
      "858/858 [==============================] - 36s 40ms/step - loss: 2.5647 - accuracy: 0.3270 - f1_m: 0.2515 - precision_m: 0.5787 - recall_m: 0.1700 - val_loss: 0.9153 - val_accuracy: 0.7341 - val_f1_m: 0.6384 - val_precision_m: 0.9344 - val_recall_m: 0.4899\n",
      "Epoch 2/15\n",
      "858/858 [==============================] - 41s 48ms/step - loss: 1.0747 - accuracy: 0.6634 - f1_m: 0.6379 - precision_m: 0.8284 - recall_m: 0.5269 - val_loss: 0.2998 - val_accuracy: 0.9099 - val_f1_m: 0.9040 - val_precision_m: 0.9531 - val_recall_m: 0.8611\n",
      "Epoch 3/15\n",
      "858/858 [==============================] - 39s 45ms/step - loss: 0.6953 - accuracy: 0.7840 - f1_m: 0.7784 - precision_m: 0.8681 - recall_m: 0.7086 - val_loss: 0.1733 - val_accuracy: 0.9592 - val_f1_m: 0.9535 - val_precision_m: 0.9802 - val_recall_m: 0.9289\n",
      "Epoch 4/15\n",
      "858/858 [==============================] - 38s 44ms/step - loss: 0.5041 - accuracy: 0.8417 - f1_m: 0.8409 - precision_m: 0.8945 - recall_m: 0.7953 - val_loss: 0.0948 - val_accuracy: 0.9691 - val_f1_m: 0.9689 - val_precision_m: 0.9766 - val_recall_m: 0.9616\n",
      "Epoch 5/15\n",
      "858/858 [==============================] - 41s 48ms/step - loss: 0.4185 - accuracy: 0.8700 - f1_m: 0.8716 - precision_m: 0.9112 - recall_m: 0.8367 - val_loss: 0.0675 - val_accuracy: 0.9811 - val_f1_m: 0.9811 - val_precision_m: 0.9863 - val_recall_m: 0.9760\n",
      "Epoch 6/15\n",
      "858/858 [==============================] - 41s 47ms/step - loss: 0.3747 - accuracy: 0.8889 - f1_m: 0.8908 - precision_m: 0.9224 - recall_m: 0.8623 - val_loss: 0.0622 - val_accuracy: 0.9843 - val_f1_m: 0.9845 - val_precision_m: 0.9909 - val_recall_m: 0.9783\n",
      "Epoch 7/15\n",
      "858/858 [==============================] - 38s 45ms/step - loss: 0.3356 - accuracy: 0.9013 - f1_m: 0.9028 - precision_m: 0.9302 - recall_m: 0.8777 - val_loss: 0.0484 - val_accuracy: 0.9858 - val_f1_m: 0.9859 - val_precision_m: 0.9891 - val_recall_m: 0.9828\n",
      "Epoch 8/15\n",
      "858/858 [==============================] - 39s 46ms/step - loss: 0.3190 - accuracy: 0.9069 - f1_m: 0.9090 - precision_m: 0.9336 - recall_m: 0.8865 - val_loss: 0.0495 - val_accuracy: 0.9876 - val_f1_m: 0.9871 - val_precision_m: 0.9912 - val_recall_m: 0.9831\n",
      "Epoch 9/15\n",
      "858/858 [==============================] - 40s 47ms/step - loss: 0.3202 - accuracy: 0.9097 - f1_m: 0.9113 - precision_m: 0.9355 - recall_m: 0.8892 - val_loss: 0.0491 - val_accuracy: 0.9863 - val_f1_m: 0.9860 - val_precision_m: 0.9908 - val_recall_m: 0.9814\n",
      "Epoch 10/15\n",
      "858/858 [==============================] - 40s 47ms/step - loss: 0.2815 - accuracy: 0.9208 - f1_m: 0.9224 - precision_m: 0.9424 - recall_m: 0.9039 - val_loss: 0.0526 - val_accuracy: 0.9858 - val_f1_m: 0.9858 - val_precision_m: 0.9894 - val_recall_m: 0.9824\n",
      "Epoch 11/15\n",
      "858/858 [==============================] - 44s 51ms/step - loss: 0.2833 - accuracy: 0.9194 - f1_m: 0.9208 - precision_m: 0.9396 - recall_m: 0.9033 - val_loss: 0.0441 - val_accuracy: 0.9877 - val_f1_m: 0.9879 - val_precision_m: 0.9916 - val_recall_m: 0.9844\n",
      "Epoch 12/15\n",
      "858/858 [==============================] - 34s 40ms/step - loss: 0.2734 - accuracy: 0.9226 - f1_m: 0.9245 - precision_m: 0.9430 - recall_m: 0.9073 - val_loss: 0.0402 - val_accuracy: 0.9891 - val_f1_m: 0.9895 - val_precision_m: 0.9924 - val_recall_m: 0.9868\n",
      "Epoch 13/15\n",
      "858/858 [==============================] - 39s 46ms/step - loss: 0.2805 - accuracy: 0.9220 - f1_m: 0.9242 - precision_m: 0.9426 - recall_m: 0.9073 - val_loss: 0.0839 - val_accuracy: 0.9745 - val_f1_m: 0.9752 - val_precision_m: 0.9824 - val_recall_m: 0.9683\n",
      "Epoch 14/15\n",
      "858/858 [==============================] - 41s 47ms/step - loss: 0.2848 - accuracy: 0.9212 - f1_m: 0.9238 - precision_m: 0.9435 - recall_m: 0.9057 - val_loss: 0.0469 - val_accuracy: 0.9870 - val_f1_m: 0.9873 - val_precision_m: 0.9910 - val_recall_m: 0.9837\n",
      "Epoch 15/15\n",
      "858/858 [==============================] - 39s 45ms/step - loss: 0.2532 - accuracy: 0.9291 - f1_m: 0.9313 - precision_m: 0.9472 - recall_m: 0.9165 - val_loss: 0.0419 - val_accuracy: 0.9884 - val_f1_m: 0.9890 - val_precision_m: 0.9913 - val_recall_m: 0.9868\n"
     ]
    }
   ],
   "source": [
    "history = model.fit(X_train, y_train, epochs=15, validation_data=(X_valid, y_valid))"
   ]
  },
  {
   "cell_type": "code",
   "execution_count": 14,
   "metadata": {},
   "outputs": [],
   "source": [
    "# evaluate the model\n",
    "loss, accuracy, f1_score, precision, recall = model.evaluate(X_train, y_train, verbose=0)"
   ]
  },
  {
   "cell_type": "code",
   "execution_count": 17,
   "metadata": {},
   "outputs": [
    {
     "name": "stdout",
     "output_type": "stream",
     "text": [
      "429/429 [==============================] - 5s 10ms/step\n"
     ]
    },
    {
     "ename": "ValueError",
     "evalue": "Classification metrics can't handle a mix of multilabel-indicator and multiclass targets",
     "output_type": "error",
     "traceback": [
      "\u001b[1;31m---------------------------------------------------------------------------\u001b[0m",
      "\u001b[1;31mValueError\u001b[0m                                Traceback (most recent call last)",
      "\u001b[1;32mc:\\ZHAW\\23FS\\KI\\Project\\Test.ipynb Cell 14\u001b[0m in \u001b[0;36m<cell line: 6>\u001b[1;34m()\u001b[0m\n\u001b[0;32m      <a href='vscode-notebook-cell:/c%3A/ZHAW/23FS/KI/Project/Test.ipynb#X23sZmlsZQ%3D%3D?line=2'>3</a>\u001b[0m y_pred \u001b[39m=\u001b[39m model\u001b[39m.\u001b[39mpredict(X_train, batch_size\u001b[39m=\u001b[39m\u001b[39m64\u001b[39m, verbose\u001b[39m=\u001b[39m\u001b[39m1\u001b[39m)\n\u001b[0;32m      <a href='vscode-notebook-cell:/c%3A/ZHAW/23FS/KI/Project/Test.ipynb#X23sZmlsZQ%3D%3D?line=3'>4</a>\u001b[0m y_pred_bool \u001b[39m=\u001b[39m np\u001b[39m.\u001b[39margmax(y_pred, axis\u001b[39m=\u001b[39m\u001b[39m1\u001b[39m)\n\u001b[1;32m----> <a href='vscode-notebook-cell:/c%3A/ZHAW/23FS/KI/Project/Test.ipynb#X23sZmlsZQ%3D%3D?line=5'>6</a>\u001b[0m \u001b[39mprint\u001b[39m(classification_report(y_train, y_pred_bool))\n",
      "File \u001b[1;32mc:\\Users\\azegl\\anaconda3\\lib\\site-packages\\sklearn\\metrics\\_classification.py:2310\u001b[0m, in \u001b[0;36mclassification_report\u001b[1;34m(y_true, y_pred, labels, target_names, sample_weight, digits, output_dict, zero_division)\u001b[0m\n\u001b[0;32m   2195\u001b[0m \u001b[39mdef\u001b[39;00m \u001b[39mclassification_report\u001b[39m(\n\u001b[0;32m   2196\u001b[0m     y_true,\n\u001b[0;32m   2197\u001b[0m     y_pred,\n\u001b[1;32m   (...)\u001b[0m\n\u001b[0;32m   2204\u001b[0m     zero_division\u001b[39m=\u001b[39m\u001b[39m\"\u001b[39m\u001b[39mwarn\u001b[39m\u001b[39m\"\u001b[39m,\n\u001b[0;32m   2205\u001b[0m ):\n\u001b[0;32m   2206\u001b[0m     \u001b[39m\"\"\"Build a text report showing the main classification metrics.\u001b[39;00m\n\u001b[0;32m   2207\u001b[0m \n\u001b[0;32m   2208\u001b[0m \u001b[39m    Read more in the :ref:`User Guide <classification_report>`.\u001b[39;00m\n\u001b[1;32m   (...)\u001b[0m\n\u001b[0;32m   2307\u001b[0m \u001b[39m    <BLANKLINE>\u001b[39;00m\n\u001b[0;32m   2308\u001b[0m \u001b[39m    \"\"\"\u001b[39;00m\n\u001b[1;32m-> 2310\u001b[0m     y_type, y_true, y_pred \u001b[39m=\u001b[39m _check_targets(y_true, y_pred)\n\u001b[0;32m   2312\u001b[0m     \u001b[39mif\u001b[39;00m labels \u001b[39mis\u001b[39;00m \u001b[39mNone\u001b[39;00m:\n\u001b[0;32m   2313\u001b[0m         labels \u001b[39m=\u001b[39m unique_labels(y_true, y_pred)\n",
      "File \u001b[1;32mc:\\Users\\azegl\\anaconda3\\lib\\site-packages\\sklearn\\metrics\\_classification.py:95\u001b[0m, in \u001b[0;36m_check_targets\u001b[1;34m(y_true, y_pred)\u001b[0m\n\u001b[0;32m     92\u001b[0m     y_type \u001b[39m=\u001b[39m {\u001b[39m\"\u001b[39m\u001b[39mmulticlass\u001b[39m\u001b[39m\"\u001b[39m}\n\u001b[0;32m     94\u001b[0m \u001b[39mif\u001b[39;00m \u001b[39mlen\u001b[39m(y_type) \u001b[39m>\u001b[39m \u001b[39m1\u001b[39m:\n\u001b[1;32m---> 95\u001b[0m     \u001b[39mraise\u001b[39;00m \u001b[39mValueError\u001b[39;00m(\n\u001b[0;32m     96\u001b[0m         \u001b[39m\"\u001b[39m\u001b[39mClassification metrics can\u001b[39m\u001b[39m'\u001b[39m\u001b[39mt handle a mix of \u001b[39m\u001b[39m{0}\u001b[39;00m\u001b[39m and \u001b[39m\u001b[39m{1}\u001b[39;00m\u001b[39m targets\u001b[39m\u001b[39m\"\u001b[39m\u001b[39m.\u001b[39mformat(\n\u001b[0;32m     97\u001b[0m             type_true, type_pred\n\u001b[0;32m     98\u001b[0m         )\n\u001b[0;32m     99\u001b[0m     )\n\u001b[0;32m    101\u001b[0m \u001b[39m# We can't have more than one value on y_type => The set is no more needed\u001b[39;00m\n\u001b[0;32m    102\u001b[0m y_type \u001b[39m=\u001b[39m y_type\u001b[39m.\u001b[39mpop()\n",
      "\u001b[1;31mValueError\u001b[0m: Classification metrics can't handle a mix of multilabel-indicator and multiclass targets"
     ]
    }
   ],
   "source": [
    "from sklearn.metrics import classification_report\n",
    "\n",
    "y_pred = model.predict(X_train, batch_size=64, verbose=1)\n",
    "y_pred_bool = np.argmax(y_pred, axis=1)\n",
    "\n",
    "print(classification_report(y_train, y_pred_bool))"
   ]
  },
  {
   "cell_type": "code",
   "execution_count": 20,
   "metadata": {},
   "outputs": [
    {
     "name": "stdout",
     "output_type": "stream",
     "text": [
      "858/858 [==============================] - 5s 6ms/step\n"
     ]
    },
    {
     "ename": "ValueError",
     "evalue": "Mix type of y not allowed, got types {'multiclass', 'multilabel-indicator'}",
     "output_type": "error",
     "traceback": [
      "\u001b[1;31m---------------------------------------------------------------------------\u001b[0m",
      "\u001b[1;31mValueError\u001b[0m                                Traceback (most recent call last)",
      "\u001b[1;32mc:\\ZHAW\\23FS\\KI\\Project\\Test.ipynb Cell 15\u001b[0m in \u001b[0;36m<cell line: 7>\u001b[1;34m()\u001b[0m\n\u001b[0;32m      <a href='vscode-notebook-cell:/c%3A/ZHAW/23FS/KI/Project/Test.ipynb#X26sZmlsZQ%3D%3D?line=3'>4</a>\u001b[0m train_predicted \u001b[39m=\u001b[39m np\u001b[39m.\u001b[39margmax(train_pred, axis\u001b[39m=\u001b[39m\u001b[39m1\u001b[39m)\n\u001b[0;32m      <a href='vscode-notebook-cell:/c%3A/ZHAW/23FS/KI/Project/Test.ipynb#X26sZmlsZQ%3D%3D?line=5'>6</a>\u001b[0m plt\u001b[39m.\u001b[39mrc(\u001b[39m'\u001b[39m\u001b[39mfont\u001b[39m\u001b[39m'\u001b[39m, size\u001b[39m=\u001b[39m\u001b[39m10\u001b[39m)  \u001b[39m# extra code\u001b[39;00m\n\u001b[1;32m----> <a href='vscode-notebook-cell:/c%3A/ZHAW/23FS/KI/Project/Test.ipynb#X26sZmlsZQ%3D%3D?line=6'>7</a>\u001b[0m ConfusionMatrixDisplay\u001b[39m.\u001b[39;49mfrom_predictions(y_train, train_predicted,\n\u001b[0;32m      <a href='vscode-notebook-cell:/c%3A/ZHAW/23FS/KI/Project/Test.ipynb#X26sZmlsZQ%3D%3D?line=7'>8</a>\u001b[0m                                         normalize\u001b[39m=\u001b[39;49m\u001b[39m\"\u001b[39;49m\u001b[39mtrue\u001b[39;49m\u001b[39m\"\u001b[39;49m, values_format\u001b[39m=\u001b[39;49m\u001b[39m\"\u001b[39;49m\u001b[39m.0\u001b[39;49m\u001b[39m%\u001b[39;49m\u001b[39m\"\u001b[39;49m)\n\u001b[0;32m      <a href='vscode-notebook-cell:/c%3A/ZHAW/23FS/KI/Project/Test.ipynb#X26sZmlsZQ%3D%3D?line=8'>9</a>\u001b[0m plt\u001b[39m.\u001b[39mshow()\n\u001b[0;32m     <a href='vscode-notebook-cell:/c%3A/ZHAW/23FS/KI/Project/Test.ipynb#X26sZmlsZQ%3D%3D?line=11'>12</a>\u001b[0m test_pred \u001b[39m=\u001b[39m model\u001b[39m.\u001b[39mpredict(X_test)\n",
      "File \u001b[1;32mc:\\Users\\azegl\\anaconda3\\lib\\site-packages\\sklearn\\metrics\\_plot\\confusion_matrix.py:459\u001b[0m, in \u001b[0;36mConfusionMatrixDisplay.from_predictions\u001b[1;34m(cls, y_true, y_pred, labels, sample_weight, normalize, display_labels, include_values, xticks_rotation, values_format, cmap, ax, colorbar, im_kw, text_kw)\u001b[0m\n\u001b[0;32m    457\u001b[0m \u001b[39mif\u001b[39;00m display_labels \u001b[39mis\u001b[39;00m \u001b[39mNone\u001b[39;00m:\n\u001b[0;32m    458\u001b[0m     \u001b[39mif\u001b[39;00m labels \u001b[39mis\u001b[39;00m \u001b[39mNone\u001b[39;00m:\n\u001b[1;32m--> 459\u001b[0m         display_labels \u001b[39m=\u001b[39m unique_labels(y_true, y_pred)\n\u001b[0;32m    460\u001b[0m     \u001b[39melse\u001b[39;00m:\n\u001b[0;32m    461\u001b[0m         display_labels \u001b[39m=\u001b[39m labels\n",
      "File \u001b[1;32mc:\\Users\\azegl\\anaconda3\\lib\\site-packages\\sklearn\\utils\\multiclass.py:86\u001b[0m, in \u001b[0;36munique_labels\u001b[1;34m(*ys)\u001b[0m\n\u001b[0;32m     83\u001b[0m     ys_types \u001b[39m=\u001b[39m {\u001b[39m\"\u001b[39m\u001b[39mmulticlass\u001b[39m\u001b[39m\"\u001b[39m}\n\u001b[0;32m     85\u001b[0m \u001b[39mif\u001b[39;00m \u001b[39mlen\u001b[39m(ys_types) \u001b[39m>\u001b[39m \u001b[39m1\u001b[39m:\n\u001b[1;32m---> 86\u001b[0m     \u001b[39mraise\u001b[39;00m \u001b[39mValueError\u001b[39;00m(\u001b[39m\"\u001b[39m\u001b[39mMix type of y not allowed, got types \u001b[39m\u001b[39m%s\u001b[39;00m\u001b[39m\"\u001b[39m \u001b[39m%\u001b[39m ys_types)\n\u001b[0;32m     88\u001b[0m label_type \u001b[39m=\u001b[39m ys_types\u001b[39m.\u001b[39mpop()\n\u001b[0;32m     90\u001b[0m \u001b[39m# Check consistency for the indicator format\u001b[39;00m\n",
      "\u001b[1;31mValueError\u001b[0m: Mix type of y not allowed, got types {'multiclass', 'multilabel-indicator'}"
     ]
    }
   ],
   "source": [
    "from sklearn.metrics import ConfusionMatrixDisplay\n",
    "\n",
    "train_pred = model.predict(X_train)\n",
    "train_predicted = np.argmax(train_pred, axis=1)\n",
    "\n",
    "plt.rc('font', size=10)  # extra code\n",
    "ConfusionMatrixDisplay.from_predictions(y_train, train_predicted,\n",
    "                                        normalize=\"true\", values_format=\".0%\")\n",
    "plt.show()\n",
    "\n",
    "\n",
    "test_pred = model.predict(X_test)\n",
    "test_predicted = np.argmax(test_pred, axis=1)\n",
    "ConfusionMatrixDisplay.from_predictions(y_test, test_predicted,\n",
    "                                        normalize=\"true\", values_format=\".0%\")\n",
    "plt.show()"
   ]
  },
  {
   "cell_type": "code",
   "execution_count": 19,
   "metadata": {},
   "outputs": [
    {
     "ename": "NameError",
     "evalue": "name 'train_predicted' is not defined",
     "output_type": "error",
     "traceback": [
      "\u001b[1;31m---------------------------------------------------------------------------\u001b[0m",
      "\u001b[1;31mNameError\u001b[0m                                 Traceback (most recent call last)",
      "\u001b[1;32mc:\\ZHAW\\23FS\\KI\\Project\\Test.ipynb Cell 15\u001b[0m in \u001b[0;36m<cell line: 3>\u001b[1;34m()\u001b[0m\n\u001b[0;32m      <a href='vscode-notebook-cell:/c%3A/ZHAW/23FS/KI/Project/Test.ipynb#X25sZmlsZQ%3D%3D?line=0'>1</a>\u001b[0m \u001b[39m# show image that were classified incorectly\u001b[39;00m\n\u001b[0;32m      <a href='vscode-notebook-cell:/c%3A/ZHAW/23FS/KI/Project/Test.ipynb#X25sZmlsZQ%3D%3D?line=1'>2</a>\u001b[0m cl_a, cl_b \u001b[39m=\u001b[39m \u001b[39m0\u001b[39m, \u001b[39m6\u001b[39m\n\u001b[1;32m----> <a href='vscode-notebook-cell:/c%3A/ZHAW/23FS/KI/Project/Test.ipynb#X25sZmlsZQ%3D%3D?line=2'>3</a>\u001b[0m X_aa \u001b[39m=\u001b[39m X_train[np\u001b[39m.\u001b[39mintersect1d(np\u001b[39m.\u001b[39mwhere(y_train \u001b[39m==\u001b[39m cl_a)[\u001b[39m0\u001b[39m], np\u001b[39m.\u001b[39mwhere(train_predicted \u001b[39m==\u001b[39m cl_a)[\u001b[39m0\u001b[39m])]\n\u001b[0;32m      <a href='vscode-notebook-cell:/c%3A/ZHAW/23FS/KI/Project/Test.ipynb#X25sZmlsZQ%3D%3D?line=3'>4</a>\u001b[0m X_ab \u001b[39m=\u001b[39m X_train[np\u001b[39m.\u001b[39mintersect1d(np\u001b[39m.\u001b[39mwhere(y_train \u001b[39m==\u001b[39m cl_a)[\u001b[39m0\u001b[39m], np\u001b[39m.\u001b[39mwhere(train_predicted \u001b[39m==\u001b[39m cl_b)[\u001b[39m0\u001b[39m])]\n\u001b[0;32m      <a href='vscode-notebook-cell:/c%3A/ZHAW/23FS/KI/Project/Test.ipynb#X25sZmlsZQ%3D%3D?line=4'>5</a>\u001b[0m X_ba \u001b[39m=\u001b[39m X_train[np\u001b[39m.\u001b[39mintersect1d(np\u001b[39m.\u001b[39mwhere(y_train \u001b[39m==\u001b[39m cl_b)[\u001b[39m0\u001b[39m], np\u001b[39m.\u001b[39mwhere(train_predicted \u001b[39m==\u001b[39m cl_a)[\u001b[39m0\u001b[39m])]\n",
      "\u001b[1;31mNameError\u001b[0m: name 'train_predicted' is not defined"
     ]
    }
   ],
   "source": [
    "# show image that were classified incorectly\n",
    "cl_a, cl_b = 0, 6\n",
    "X_aa = X_train[np.intersect1d(np.where(y_train == cl_a)[0], np.where(train_predicted == cl_a)[0])]\n",
    "X_ab = X_train[np.intersect1d(np.where(y_train == cl_a)[0], np.where(train_predicted == cl_b)[0])]\n",
    "X_ba = X_train[np.intersect1d(np.where(y_train == cl_b)[0], np.where(train_predicted == cl_a)[0])]\n",
    "X_bb = X_train[np.intersect1d(np.where(y_train == cl_b)[0], np.where(train_predicted == cl_b)[0])]"
   ]
  },
  {
   "cell_type": "code",
   "execution_count": 18,
   "metadata": {},
   "outputs": [
    {
     "ename": "KeyError",
     "evalue": "<function precision_m at 0x000001A47945AAF0>",
     "output_type": "error",
     "traceback": [
      "\u001b[1;31m---------------------------------------------------------------------------\u001b[0m",
      "\u001b[1;31mKeyError\u001b[0m                                  Traceback (most recent call last)",
      "\u001b[1;32mc:\\ZHAW\\23FS\\KI\\Project\\Test.ipynb Cell 15\u001b[0m in \u001b[0;36m<cell line: 3>\u001b[1;34m()\u001b[0m\n\u001b[0;32m      <a href='vscode-notebook-cell:/c%3A/ZHAW/23FS/KI/Project/Test.ipynb#X24sZmlsZQ%3D%3D?line=0'>1</a>\u001b[0m \u001b[39m#\u001b[39;00m\n\u001b[0;32m      <a href='vscode-notebook-cell:/c%3A/ZHAW/23FS/KI/Project/Test.ipynb#X24sZmlsZQ%3D%3D?line=1'>2</a>\u001b[0m plt\u001b[39m.\u001b[39mfigure(\u001b[39m0\u001b[39m)\n\u001b[1;32m----> <a href='vscode-notebook-cell:/c%3A/ZHAW/23FS/KI/Project/Test.ipynb#X24sZmlsZQ%3D%3D?line=2'>3</a>\u001b[0m plt\u001b[39m.\u001b[39mplot(history\u001b[39m.\u001b[39;49mhistory[precision_m],label\u001b[39m=\u001b[39m\u001b[39m'\u001b[39m\u001b[39mtraining accuracy\u001b[39m\u001b[39m'\u001b[39m)\n\u001b[0;32m      <a href='vscode-notebook-cell:/c%3A/ZHAW/23FS/KI/Project/Test.ipynb#X24sZmlsZQ%3D%3D?line=3'>4</a>\u001b[0m plt\u001b[39m.\u001b[39mplot(history\u001b[39m.\u001b[39mhistory[val_precision_m],label\u001b[39m=\u001b[39m\u001b[39m'\u001b[39m\u001b[39mvalidation accuracy\u001b[39m\u001b[39m'\u001b[39m)\n\u001b[0;32m      <a href='vscode-notebook-cell:/c%3A/ZHAW/23FS/KI/Project/Test.ipynb#X24sZmlsZQ%3D%3D?line=4'>5</a>\u001b[0m plt\u001b[39m.\u001b[39mtitle(\u001b[39m'\u001b[39m\u001b[39mAccuracy\u001b[39m\u001b[39m'\u001b[39m)\n",
      "\u001b[1;31mKeyError\u001b[0m: <function precision_m at 0x000001A47945AAF0>"
     ]
    },
    {
     "data": {
      "text/plain": [
       "<Figure size 432x288 with 0 Axes>"
      ]
     },
     "metadata": {},
     "output_type": "display_data"
    }
   ],
   "source": [
    "#\n",
    "plt.figure(0)\n",
    "plt.plot(history.history[precision_m],label='training accuracy')\n",
    "plt.plot(history.history[val_precision_m],label='validation accuracy')\n",
    "plt.title('Accuracy')\n",
    "plt.xlabel('epochs')\n",
    "plt.ylabel('accuracy')\n",
    "plt.legend()\n",
    "plt.show"
   ]
  },
  {
   "cell_type": "code",
   "execution_count": 15,
   "metadata": {},
   "outputs": [
    {
     "data": {
      "text/plain": [
       "<function matplotlib.pyplot.show(close=None, block=None)>"
      ]
     },
     "execution_count": 15,
     "metadata": {},
     "output_type": "execute_result"
    },
    {
     "data": {
      "image/png": "[encoded data removed]",
      "text/plain": [
       "<Figure size 432x288 with 1 Axes>"
      ]
     },
     "metadata": {
      "needs_background": "light"
     },
     "output_type": "display_data"
    }
   ],
   "source": [
    "#accuracy\n",
    "plt.figure(0)\n",
    "plt.plot(history.history['accuracy'],label='training accuracy')\n",
    "plt.plot(history.history['val_accuracy'],label='validation accuracy')\n",
    "plt.title('Accuracy')\n",
    "plt.xlabel('epochs')\n",
    "plt.ylabel('accuracy')\n",
    "plt.legend()\n",
    "plt.show"
   ]
  },
  {
   "cell_type": "code",
   "execution_count": 16,
   "metadata": {},
   "outputs": [
    {
     "data": {
      "text/plain": [
       "<function matplotlib.pyplot.show(close=None, block=None)>"
      ]
     },
     "execution_count": 16,
     "metadata": {},
     "output_type": "execute_result"
    },
    {
     "data": {
      "image/png": "[encoded data removed]",
      "text/plain": [
       "<Figure size 432x288 with 1 Axes>"
      ]
     },
     "metadata": {
      "needs_background": "light"
     },
     "output_type": "display_data"
    }
   ],
   "source": [
    "#Loss\n",
    "plt.plot(history.history['loss'],label='training loss')\n",
    "plt.plot(history.history['val_loss'],label='validation loss')\n",
    "plt.title('Loss')\n",
    "plt.xlabel('epochs')\n",
    "plt.ylabel('loss')\n",
    "plt.legend()\n",
    "plt.show"
   ]
  }
 ],
 "metadata": {
  "kernelspec": {
   "display_name": "base",
   "language": "python",
   "name": "python3"
  },
  "language_info": {
   "codemirror_mode": {
    "name": "ipython",
    "version": 3
   },
   "file_extension": ".py",
   "mimetype": "text/x-python",
   "name": "python",
   "nbconvert_exporter": "python",
   "pygments_lexer": "ipython3",
   "version": "3.9.12"
  },
  "orig_nbformat": 4
 },
 "nbformat": 4,
 "nbformat_minor": 2
}

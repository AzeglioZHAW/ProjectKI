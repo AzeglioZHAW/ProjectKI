{
 "cells": [
  {
   "cell_type": "code",
   "execution_count": 1,
   "metadata": {},
   "outputs": [],
   "source": [
    "import matplotlib.image as mpimg\n",
    "import os\n",
    "\n",
    "import matplotlib.pyplot as plt\n",
    "import tensorflow as tf\n",
    "import pandas as pd\n",
    "import numpy as np\n",
    "from glob import glob\n",
    "import cv2\n",
    "#import zipfile\n",
    "from PIL import Image\n",
    "  \n",
    "from keras.callbacks import EarlyStopping\n",
    "#from keras.preprocessing import image_dataset_from_directory\n",
    "#from keras.preprocessing.image import ImageDataGenerator, load_img\n",
    "from keras.utils.np_utils import to_categorical\n",
    "from keras.utils import image_dataset_from_directory\n",
    "from keras.optimizers import Adam\n",
    "from keras.layers import Conv2D, MaxPooling2D\n",
    "from keras.layers import Activation, Dropout, Flatten, Dense\n",
    "from keras.models import Sequential\n",
    "from keras import layers\n",
    "from tensorflow import keras\n",
    "#from layers.experimental.preprocessing import Rescaling\n",
    "from sklearn.model_selection import train_test_split\n",
    "#from zipfile import ZipFile\n",
    "  \n",
    "import warnings\n",
    "warnings.filterwarnings('ignore')"
   ]
  },
  {
   "cell_type": "code",
   "execution_count": 2,
   "metadata": {},
   "outputs": [
    {
     "data": {
      "text/plain": [
       "43"
      ]
     },
     "execution_count": 2,
     "metadata": {},
     "output_type": "execute_result"
    }
   ],
   "source": [
    "#accesing path for dataset\n",
    "data_path='c:\\\\ZHAW\\\\23FS\\\\KI\\\\DataForProject'\n",
    "train_path='c:\\\\ZHAW\\\\23FS\\\\KI\\\\DataForProject\\\\Train'\n",
    "\n",
    "#Variables for resizing\n",
    "IMG_HEIGHT = 30\n",
    "IMG_WIDTH = 30\n",
    "channels = 3\n",
    "\n",
    "#Getting Total Nr of Classes from Train Folder\n",
    "NUM_CATEGORIES = len(os.listdir(train_path))\n",
    "NUM_CATEGORIES"
   ]
  },
  {
   "cell_type": "code",
   "execution_count": 3,
   "metadata": {},
   "outputs": [],
   "source": [
    "# Label Overview\n",
    "classes = { 0:'Speed limit (20km/h)',\n",
    "            1:'Speed limit (30km/h)', \n",
    "            2:'Speed limit (50km/h)', \n",
    "            3:'Speed limit (60km/h)', \n",
    "            4:'Speed limit (70km/h)', \n",
    "            5:'Speed limit (80km/h)', \n",
    "            6:'End of speed limit (80km/h)', \n",
    "            7:'Speed limit (100km/h)', \n",
    "            8:'Speed limit (120km/h)', \n",
    "            9:'No passing', \n",
    "            10:'No passing veh over 3.5 tons', \n",
    "            11:'Right-of-way at intersection', \n",
    "            12:'Priority road', \n",
    "            13:'Yield', \n",
    "            14:'Stop', \n",
    "            15:'No vehicles', \n",
    "            16:'Veh > 3.5 tons prohibited', \n",
    "            17:'No entry', \n",
    "            18:'General caution', \n",
    "            19:'Dangerous curve left', \n",
    "            20:'Dangerous curve right', \n",
    "            21:'Double curve', \n",
    "            22:'Bumpy road', \n",
    "            23:'Slippery road', \n",
    "            24:'Road narrows on the right', \n",
    "            25:'Road work', \n",
    "            26:'Traffic signals', \n",
    "            27:'Pedestrians', \n",
    "            28:'Children crossing', \n",
    "            29:'Bicycles crossing', \n",
    "            30:'Beware of ice/snow',\n",
    "            31:'Wild animals crossing', \n",
    "            32:'End speed + passing limits', \n",
    "            33:'Turn right ahead', \n",
    "            34:'Turn left ahead', \n",
    "            35:'Ahead only', \n",
    "            36:'Go straight or right', \n",
    "            37:'Go straight or left', \n",
    "            38:'Keep right', \n",
    "            39:'Keep left', \n",
    "            40:'Roundabout mandatory', \n",
    "            41:'End of no passing', \n",
    "            42:'End no passing veh > 3.5 tons' }"
   ]
  },
  {
   "cell_type": "code",
   "execution_count": 4,
   "metadata": {},
   "outputs": [
    {
     "name": "stdout",
     "output_type": "stream",
     "text": [
      "(39209, 30, 30, 3) (39209,)\n"
     ]
    }
   ],
   "source": [
    "image_data = []\n",
    "image_labels = []\n",
    "\n",
    "for i in range(NUM_CATEGORIES):\n",
    "    path = train_path + \"\\\\\" + str(i)\n",
    "    images = os.listdir(path)\n",
    "\n",
    "    for img in images:\n",
    "        try:\n",
    "            image = cv2.imread(path + '\\\\' + img)\n",
    "            image_fromarray = Image.fromarray(image, 'RGB')\n",
    "            resize_image = image_fromarray.resize((IMG_HEIGHT, IMG_WIDTH))\n",
    "            image_data.append(np.array(resize_image))\n",
    "            image_labels.append(i)\n",
    "        except:\n",
    "            print(\"Error in \" + img)\n",
    "\n",
    "# Changing the list to numpy array\n",
    "image_data = np.array(image_data)\n",
    "image_labels = np.array(image_labels)\n",
    "\n",
    "print(image_data.shape, image_labels.shape)\n"
   ]
  },
  {
   "cell_type": "code",
   "execution_count": 5,
   "metadata": {},
   "outputs": [
    {
     "name": "stdout",
     "output_type": "stream",
     "text": [
      "X_train.shape (27446, 30, 30, 3)\n",
      "X_valid.shape (11763, 30, 30, 3)\n",
      "y_train.shape (27446,)\n",
      "y_valid.shape (11763,)\n",
      "X_test.shape (39209, 30, 30, 3)\n",
      "y_test.shape (39209,)\n"
     ]
    }
   ],
   "source": [
    "X_train, X_val, y_train, y_val = train_test_split(image_data, image_labels, test_size=0.3, random_state=42, shuffle=True)\n",
    "\n",
    "(X_test, y_test) = (image_data, image_labels)\n",
    "X_train = X_train/255 \n",
    "X_val = X_val/255\n",
    "\n",
    "print(\"X_train.shape\", X_train.shape)\n",
    "print(\"X_valid.shape\", X_val.shape)\n",
    "print(\"y_train.shape\", y_train.shape)\n",
    "print(\"y_valid.shape\", y_val.shape)\n",
    "print(\"X_test.shape\", X_test.shape)\n",
    "print(\"y_test.shape\", y_test.shape)"
   ]
  },
  {
   "cell_type": "code",
   "execution_count": 6,
   "metadata": {},
   "outputs": [
    {
     "name": "stdout",
     "output_type": "stream",
     "text": [
      "(27446, 43)\n",
      "(11763, 43)\n"
     ]
    }
   ],
   "source": [
    "y_train = keras.utils.to_categorical(y_train, NUM_CATEGORIES)\n",
    "y_val = keras.utils.to_categorical(y_val, NUM_CATEGORIES)\n",
    "\n",
    "print(y_train.shape)\n",
    "print(y_val.shape)"
   ]
  },
  {
   "cell_type": "code",
   "execution_count": 7,
   "metadata": {},
   "outputs": [],
   "source": [
    "#Creating data augementation layers\n",
    "data_augmentation = tf.keras.Sequential([\n",
    "  layers.RandomContrast(0.5),\n",
    "  layers.RandomBrightness(0.5),\n",
    "  layers.RandomZoom(.5, .2)\n",
    "])"
   ]
  },
  {
   "cell_type": "code",
   "execution_count": 8,
   "metadata": {},
   "outputs": [],
   "source": [
    "input_shape = (30, 30, 3) #30x30 Images in black/white, to have RGB 30, 30, 3\n",
    "\n",
    "\n",
    "model1 = tf.keras.Sequential([\n",
    "# input layer\n",
    "tf.keras.Input(shape=input_shape),\n",
    "\n",
    "#Data Augmentation layers\n",
    "data_augmentation,\n",
    "\n",
    "# first convolution layer\n",
    "tf.keras.layers.Conv2D(16, kernel_size=3, activation=\"relu\"),\n",
    "tf.keras.layers.Conv2D(32, kernel_size=3, activation=\"relu\"),\n",
    "tf.keras.layers.MaxPool2D(pool_size=2, strides=2),\n",
    "# second convolution layer\n",
    "tf.keras.layers.Conv2D(64, kernel_size=3, activation=\"relu\"),\n",
    "tf.keras.layers.Conv2D(128, kernel_size=3, activation=\"relu\"),\n",
    "tf.keras.layers.MaxPool2D(pool_size=2, strides=2),\n",
    "# fully connected classifier\n",
    "tf.keras.layers.Flatten(),\n",
    "tf.keras.layers.Dense(512, activation=\"relu\"),\n",
    "tf.keras.layers.BatchNormalization(),\n",
    "tf.keras.layers.Dense(NUM_CATEGORIES, activation=\"softmax\")\n",
    "])"
   ]
  },
  {
   "cell_type": "code",
   "execution_count": 9,
   "metadata": {},
   "outputs": [],
   "source": [
    "model1.compile(optimizer='adam',\n",
    "              loss='categorical_crossentropy',\n",
    "              metrics=['accuracy'])"
   ]
  },
  {
   "cell_type": "code",
   "execution_count": 10,
   "metadata": {},
   "outputs": [
    {
     "name": "stdout",
     "output_type": "stream",
     "text": [
      "Epoch 1/15\n",
      "687/687 [==============================] - 28s 39ms/step - loss: 3.5419 - accuracy: 0.0512 - val_loss: 3.5212 - val_accuracy: 0.0537\n",
      "Epoch 2/15\n",
      "687/687 [==============================] - 29s 42ms/step - loss: 3.5066 - accuracy: 0.0552 - val_loss: 3.5041 - val_accuracy: 0.0523\n",
      "Epoch 3/15\n",
      "687/687 [==============================] - 34s 49ms/step - loss: 3.5000 - accuracy: 0.0560 - val_loss: 3.5142 - val_accuracy: 0.0552\n",
      "Epoch 4/15\n",
      "687/687 [==============================] - 31s 46ms/step - loss: 3.5185 - accuracy: 0.0538 - val_loss: 3.5393 - val_accuracy: 0.0543\n",
      "Epoch 5/15\n",
      "687/687 [==============================] - 29s 43ms/step - loss: 3.5061 - accuracy: 0.0557 - val_loss: 3.5205 - val_accuracy: 0.0472\n",
      "Epoch 6/15\n",
      "687/687 [==============================] - 29s 42ms/step - loss: 3.4976 - accuracy: 0.0579 - val_loss: 3.4992 - val_accuracy: 0.0539\n",
      "Epoch 7/15\n",
      "687/687 [==============================] - 30s 44ms/step - loss: 3.4942 - accuracy: 0.0570 - val_loss: 3.4993 - val_accuracy: 0.0532\n",
      "Epoch 8/15\n",
      "687/687 [==============================] - 30s 44ms/step - loss: 3.4929 - accuracy: 0.0548 - val_loss: 3.4948 - val_accuracy: 0.0557\n",
      "Epoch 9/15\n",
      "687/687 [==============================] - 29s 43ms/step - loss: 3.4925 - accuracy: 0.0535 - val_loss: 3.4960 - val_accuracy: 0.0563\n",
      "Epoch 10/15\n",
      "687/687 [==============================] - 29s 42ms/step - loss: 3.4915 - accuracy: 0.0540 - val_loss: 3.5013 - val_accuracy: 0.0539\n",
      "Epoch 11/15\n",
      "687/687 [==============================] - 30s 44ms/step - loss: 3.4921 - accuracy: 0.0532 - val_loss: 3.5319 - val_accuracy: 0.0539\n",
      "Epoch 12/15\n",
      "687/687 [==============================] - 30s 44ms/step - loss: 3.4915 - accuracy: 0.0545 - val_loss: 3.5118 - val_accuracy: 0.0539\n",
      "Epoch 13/15\n",
      "687/687 [==============================] - 34s 49ms/step - loss: 3.4915 - accuracy: 0.0567 - val_loss: 3.5223 - val_accuracy: 0.0541\n",
      "Epoch 14/15\n",
      "687/687 [==============================] - 33s 49ms/step - loss: 3.4903 - accuracy: 0.0577 - val_loss: 3.5176 - val_accuracy: 0.0474\n",
      "Epoch 15/15\n",
      "687/687 [==============================] - 34s 49ms/step - loss: 3.4917 - accuracy: 0.0554 - val_loss: 24.6381 - val_accuracy: 0.0437\n"
     ]
    }
   ],
   "source": [
    "history = model1.fit(X_train, y_train, epochs=15, validation_split=0.2)"
   ]
  },
  {
   "cell_type": "code",
   "execution_count": 11,
   "metadata": {},
   "outputs": [
    {
     "data": {
      "text/plain": [
       "<function matplotlib.pyplot.show(close=None, block=None)>"
      ]
     },
     "execution_count": 11,
     "metadata": {},
     "output_type": "execute_result"
    },
    {
     "data": {
      "image/png": "[encoded data removed]",
      "text/plain": [
       "<Figure size 432x288 with 1 Axes>"
      ]
     },
     "metadata": {
      "needs_background": "light"
     },
     "output_type": "display_data"
    }
   ],
   "source": [
    "#accuracy\n",
    "plt.figure(0)\n",
    "plt.plot(history.history['accuracy'],label='tranning accuracy')\n",
    "plt.plot(history.history['val_accuracy'],label='validation accuracy')\n",
    "plt.title('Accuracy')\n",
    "plt.xlabel('epochs')\n",
    "plt.ylabel('accuracy')\n",
    "plt.legend()\n",
    "plt.show"
   ]
  },
  {
   "cell_type": "code",
   "execution_count": 12,
   "metadata": {},
   "outputs": [
    {
     "data": {
      "text/plain": [
       "<function matplotlib.pyplot.show(close=None, block=None)>"
      ]
     },
     "execution_count": 12,
     "metadata": {},
     "output_type": "execute_result"
    },
    {
     "data": {
      "image/png": "[encoded data removed]",
      "text/plain": [
       "<Figure size 432x288 with 1 Axes>"
      ]
     },
     "metadata": {
      "needs_background": "light"
     },
     "output_type": "display_data"
    }
   ],
   "source": [
    "#Loss\n",
    "plt.plot(history.history['loss'],label='tranning loss')\n",
    "plt.plot(history.history['val_loss'],label='validation loss')\n",
    "plt.title('Loss')\n",
    "plt.xlabel('epochs')\n",
    "plt.ylabel('loss')\n",
    "plt.legend()\n",
    "plt.show"
   ]
  },
  {
   "attachments": {},
   "cell_type": "markdown",
   "metadata": {},
   "source": [
    "Now implementing kernel size (3,3) and pool size (2,2)"
   ]
  },
  {
   "cell_type": "code",
   "execution_count": null,
   "metadata": {},
   "outputs": [],
   "source": [
    "input_shape = (30, 30, 3) #30x30 Images in black/white, to have RGB 30, 30, 3\n",
    "\n",
    "\n",
    "model2 = tf.keras.Sequential([\n",
    "# input layer\n",
    "tf.keras.Input(shape=input_shape),\n",
    "\n",
    "#Data Augmentation layers\n",
    "data_augmentation,\n",
    "\n",
    "# first convolution layer\n",
    "tf.keras.layers.Conv2D(16, kernel_size=(3,3), activation=\"relu\"),\n",
    "tf.keras.layers.Conv2D(32, kernel_size=(3,3), activation=\"relu\"),\n",
    "tf.keras.layers.MaxPool2D(pool_size=(2,2), strides=2),\n",
    "# second convolution layer\n",
    "tf.keras.layers.Conv2D(64, kernel_size=(3,3), activation=\"relu\"),\n",
    "tf.keras.layers.Conv2D(128, kernel_size=(3,3), activation=\"relu\"),\n",
    "tf.keras.layers.MaxPool2D(pool_size=(2,2), strides=2),\n",
    "# fully connected classifier\n",
    "tf.keras.layers.Flatten(),\n",
    "tf.keras.layers.Dense(512, activation=\"relu\"),\n",
    "tf.keras.layers.BatchNormalization(),\n",
    "tf.keras.layers.Dense(NUM_CATEGORIES, activation=\"softmax\")\n",
    "])"
   ]
  },
  {
   "cell_type": "code",
   "execution_count": null,
   "metadata": {},
   "outputs": [],
   "source": [
    "model2.compile(optimizer='adam',\n",
    "              loss='categorical_crossentropy',\n",
    "              metrics=['accuracy'])"
   ]
  },
  {
   "cell_type": "code",
   "execution_count": null,
   "metadata": {},
   "outputs": [],
   "source": [
    "history2 = model2.fit(X_train, y_train, epochs=15, validation_split=0.2)"
   ]
  },
  {
   "cell_type": "code",
   "execution_count": null,
   "metadata": {},
   "outputs": [],
   "source": [
    "#accuracy\n",
    "plt.figure(0)\n",
    "plt.plot(history2.history['accuracy'],label='tranning accuracy')\n",
    "plt.plot(history2.history['val_accuracy'],label='validation accuracy')\n",
    "plt.title('Accuracy')\n",
    "plt.xlabel('epochs')\n",
    "plt.ylabel('accuracy')\n",
    "plt.legend()\n",
    "plt.show\n",
    "\n",
    "#Loss\n",
    "plt.plot(history2.history['loss'],label='tranning loss')\n",
    "plt.plot(history2.history['val_loss'],label='validation loss')\n",
    "plt.title('Loss')\n",
    "plt.xlabel('epochs')\n",
    "plt.ylabel('loss')\n",
    "plt.legend()\n",
    "plt.show"
   ]
  }
 ],
 "metadata": {
  "kernelspec": {
   "display_name": "base",
   "language": "python",
   "name": "python3"
  },
  "language_info": {
   "codemirror_mode": {
    "name": "ipython",
    "version": 3
   },
   "file_extension": ".py",
   "mimetype": "text/x-python",
   "name": "python",
   "nbconvert_exporter": "python",
   "pygments_lexer": "ipython3",
   "version": "3.9.12"
  },
  "orig_nbformat": 4
 },
 "nbformat": 4,
 "nbformat_minor": 2
}
